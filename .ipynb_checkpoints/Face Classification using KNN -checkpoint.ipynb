{
 "cells": [
  {
   "cell_type": "markdown",
   "id": "0a54cd8b",
   "metadata": {},
   "source": [
    "# Face classifier\n",
    "### Recognise face using classification algorithm KNN \n",
    "1. Load the traning data from the data folder contaning numpy arrays of aal persons\n",
    "2. Read a video stream using openCV\n",
    "3. Extract faces out of it\n",
    "4. use KNN to find the prediction of the face\n",
    "5. Map the predicted id to the name of the user\n",
    "6. Display the predictions on the screen"
   ]
  },
  {
   "cell_type": "code",
   "execution_count": 1,
   "id": "bb9fcdda",
   "metadata": {},
   "outputs": [],
   "source": [
    "import numpy as np \n",
    "import pandas as pd"
   ]
  },
  {
   "cell_type": "code",
   "execution_count": 2,
   "id": "b9c7c9ab",
   "metadata": {},
   "outputs": [],
   "source": [
    "########### KNN CODE ##########\n",
    "def distance(v1, v2):\n",
    "    #eucledian\n",
    "    return np.sqrt(((v1-v2)**2).sum())\n",
    "def KNN(train , test , k = 5):\n",
    "    dist = []\n",
    "    for i in range(train.shape[0]) :\n",
    "        #get the vector and label\n",
    "        ix= train[i, :-1]\n",
    "        iy = train[i , -1]\n",
    "        #compute the distance between test points \n",
    "        d = distance(test , ix)\n",
    "        dist.append([d, iy])\n",
    "    #sort based on distance and get top k\n",
    "    dk = sorted(dist, key = lambda x : x[0])[:k]\n",
    "    #retrive only the labels\n",
    "    labels = np.array(dk)[:, -1]\n",
    "    #get frequencies of each label\n",
    "    output = np.unique(labels, return_counts = True)\n",
    "    #find max frequency and corresponding label\n",
    "    index = np.argmax(output[1])\n",
    "    return output[0][index]\n",
    "    \n",
    "    "
   ]
  },
  {
   "cell_type": "code",
   "execution_count": 3,
   "id": "ceb174b0",
   "metadata": {},
   "outputs": [
    {
     "name": "stdout",
     "output_type": "stream",
     "text": [
      "loaded divyansh.npy\n",
      "loaded mayank.npy\n",
      "(28, 30000)\n",
      "(28, 1)\n",
      "(28, 30001)\n"
     ]
    }
   ],
   "source": [
    "import cv2\n",
    "import os \n",
    "#init camera \n",
    "cap = cv2.VideoCapture(0)\n",
    "# face detection using cascade\n",
    "face_cascade = cv2.CascadeClassifier(\"haarcascade_frontalface_alt.xml\")\n",
    "skip = 0;\n",
    "face_data = []\n",
    "dataset_path = './data/'\n",
    "labels = []\n",
    "class_id = 0\n",
    "names = {}#mapping bw id and name\n",
    "\n",
    "\n",
    "#Data Preperation \n",
    "for fx in os.listdir(dataset_path):\n",
    "    if fx.endswith('.npy'):\n",
    "        #create a mapping between class id and name\n",
    "        names[class_id] = fx[:-4]\n",
    "        print(\"loaded \" + fx)\n",
    "        data_item  = np.load(dataset_path + fx)\n",
    "        face_data.append(data_item)\n",
    "    \n",
    "        #create labels for class\n",
    "        target = class_id*np.ones((data_item.shape[0], ))\n",
    "        class_id += 1\n",
    "        labels.append(target)\n",
    "face_dataset = np.concatenate(face_data, axis =0)\n",
    "face_labels = np.concatenate(labels, axis = 0).reshape((-1, 1))\n",
    "train_set = np.concatenate((face_dataset, face_labels), axis = 1)\n",
    "print(face_dataset.shape)\n",
    "print(face_labels.shape)\n",
    "print(train_set.shape)\n",
    "#now we are done with the data preperation "
   ]
  },
  {
   "cell_type": "code",
   "execution_count": 4,
   "id": "03caaf6e",
   "metadata": {},
   "outputs": [],
   "source": [
    "#testing \n",
    "while True :\n",
    "    ret, frame = cap.read()\n",
    "    if ret == False :\n",
    "        continue\n",
    "    faces = face_cascade.detectMultiScale(frame, 1.3, 5)\n",
    "    for face in faces:\n",
    "        x,y,w,h = face\n",
    "        offset = 10\n",
    "        face_section = frame[y-offset: y+offset+h, x-offset:x+offset+w]\n",
    "        face_section = cv2.resize(face_section, (100,100))\n",
    "        \n",
    "        #prediction label (out)\n",
    "        out = KNN(train_set, face_section.flatten())\n",
    "        \n",
    "        #displaying the rectangle around tha face and name on it\n",
    "        predicted_name = names[int(out)]\n",
    "        cv2.putText(frame, predicted_name, (x, y-10), cv2.FONT_HERSHEY_SIMPLEX, 1, (0,255,255), 2, cv2.LINE_AA)\n",
    "        cv2.rectangle(frame, (x,y), (x+w, y+h), (0,0,0), 2)\n",
    "    cv2.imshow(\"frames\", frame)\n",
    "    \n",
    "    key_pressed = cv2.waitKey(1) & 0xFF\n",
    "    if key_pressed == ord('q') :\n",
    "        break\n",
    "cap.release()\n",
    "cv2.destroyAllWindows()\n",
    "    "
   ]
  },
  {
   "cell_type": "code",
   "execution_count": null,
   "id": "b0e76f2c",
   "metadata": {},
   "outputs": [],
   "source": []
  }
 ],
 "metadata": {
  "kernelspec": {
   "display_name": "Python 3",
   "language": "python",
   "name": "python3"
  },
  "language_info": {
   "codemirror_mode": {
    "name": "ipython",
    "version": 3
   },
   "file_extension": ".py",
   "mimetype": "text/x-python",
   "name": "python",
   "nbconvert_exporter": "python",
   "pygments_lexer": "ipython3",
   "version": "3.8.8"
  }
 },
 "nbformat": 4,
 "nbformat_minor": 5
}
